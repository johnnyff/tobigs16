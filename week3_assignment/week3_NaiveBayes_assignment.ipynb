{
 "cells": [
  {
   "cell_type": "markdown",
   "metadata": {
    "id": "W3Zkr2JGup19"
   },
   "source": [
    "# Assignment"
   ]
  },
  {
   "cell_type": "markdown",
   "metadata": {
    "id": "hJEhM1uAup2I"
   },
   "source": [
    "# Naive Bayes Classification"
   ]
  },
  {
   "cell_type": "markdown",
   "metadata": {
    "id": "ZSwttCJnup2K"
   },
   "source": [
    "## 1. 직접 수식을 작성하여 Naive Bayes 모델을 만들겠습니다.\n",
    "- 주어진 dataset 을 확인해 보기위해 엑셀 파일을 읽습니다."
   ]
  },
  {
   "cell_type": "code",
   "execution_count": 1,
   "metadata": {
    "id": "PHRU587dup2K"
   },
   "outputs": [],
   "source": [
    "import numpy as np\n",
    "import pandas as pd"
   ]
  },
  {
   "cell_type": "code",
   "execution_count": 2,
   "metadata": {
    "colab": {
     "base_uri": "https://localhost:8080/",
     "height": 204
    },
    "executionInfo": {
     "elapsed": 3663,
     "status": "ok",
     "timestamp": 1616425369759,
     "user": {
      "displayName": "김동현",
      "photoUrl": "",
      "userId": "05798820432415047858"
     },
     "user_tz": -540
    },
    "id": "yZt4AtNTup2W",
    "outputId": "b5b66e01-6185-43e5-bf35-9b187bf6c6bf",
    "scrolled": true
   },
   "outputs": [
    {
     "data": {
      "text/html": [
       "<div>\n",
       "<style scoped>\n",
       "    .dataframe tbody tr th:only-of-type {\n",
       "        vertical-align: middle;\n",
       "    }\n",
       "\n",
       "    .dataframe tbody tr th {\n",
       "        vertical-align: top;\n",
       "    }\n",
       "\n",
       "    .dataframe thead th {\n",
       "        text-align: right;\n",
       "    }\n",
       "</style>\n",
       "<table border=\"1\" class=\"dataframe\">\n",
       "  <thead>\n",
       "    <tr style=\"text-align: right;\">\n",
       "      <th></th>\n",
       "      <th>label</th>\n",
       "      <th>message</th>\n",
       "    </tr>\n",
       "  </thead>\n",
       "  <tbody>\n",
       "    <tr>\n",
       "      <th>0</th>\n",
       "      <td>comedy</td>\n",
       "      <td>Fun couple, love love</td>\n",
       "    </tr>\n",
       "    <tr>\n",
       "      <th>1</th>\n",
       "      <td>action</td>\n",
       "      <td>fast Furious, shoot!!</td>\n",
       "    </tr>\n",
       "    <tr>\n",
       "      <th>2</th>\n",
       "      <td>comedy</td>\n",
       "      <td>couple^^, fly, fast, fun, fun</td>\n",
       "    </tr>\n",
       "    <tr>\n",
       "      <th>3</th>\n",
       "      <td>action</td>\n",
       "      <td>furious, shoot shoot fun</td>\n",
       "    </tr>\n",
       "    <tr>\n",
       "      <th>4</th>\n",
       "      <td>action</td>\n",
       "      <td>fly~~ fast shoot, Love</td>\n",
       "    </tr>\n",
       "  </tbody>\n",
       "</table>\n",
       "</div>"
      ],
      "text/plain": [
       "    label                        message\n",
       "0  comedy          Fun couple, love love\n",
       "1  action          fast Furious, shoot!!\n",
       "2  comedy  couple^^, fly, fast, fun, fun\n",
       "3  action       furious, shoot shoot fun\n",
       "4  action         fly~~ fast shoot, Love"
      ]
     },
     "execution_count": 2,
     "metadata": {},
     "output_type": "execute_result"
    }
   ],
   "source": [
    "documents = pd.read_excel('./test_file.xlsx') \n",
    "documents "
   ]
  },
  {
   "cell_type": "markdown",
   "metadata": {
    "id": "cXxX9Yx7up2Y"
   },
   "source": [
    "### step 1. 단어를 모두 소문자로 바꾸어 줍니다. "
   ]
  },
  {
   "cell_type": "code",
   "execution_count": 5,
   "metadata": {
    "colab": {
     "base_uri": "https://localhost:8080/"
    },
    "executionInfo": {
     "elapsed": 3652,
     "status": "ok",
     "timestamp": 1616425369761,
     "user": {
      "displayName": "김동현",
      "photoUrl": "",
      "userId": "05798820432415047858"
     },
     "user_tz": -540
    },
    "id": "UCX42MsAup2Z",
    "outputId": "f738981b-caef-45b4-cfae-78cf615599cb"
   },
   "outputs": [
    {
     "name": "stdout",
     "output_type": "stream",
     "text": [
      "['fun couple, love love', 'fast furious, shoot!!', 'couple^^, fly, fast, fun, fun', 'furious, shoot shoot fun', 'fly~~ fast shoot, love']\n"
     ]
    }
   ],
   "source": [
    "lower_documents = []\n",
    "\n",
    "for ms in documents['message']:\n",
    "    lower_documents.append(ms.lower())\n",
    "print(lower_documents)"
   ]
  },
  {
   "cell_type": "markdown",
   "metadata": {
    "id": "QZDgo93Lup2a"
   },
   "source": [
    "### step2. string.punctuation 을 이용해서 특수문자를 제거해주세요.\n",
    "- string.punctuation 에는 특수문자들이 저장되어있는것을 확인할수 있습니다."
   ]
  },
  {
   "cell_type": "code",
   "execution_count": 7,
   "metadata": {
    "colab": {
     "base_uri": "https://localhost:8080/",
     "height": 35
    },
    "executionInfo": {
     "elapsed": 1042,
     "status": "ok",
     "timestamp": 1616425400864,
     "user": {
      "displayName": "김동현",
      "photoUrl": "",
      "userId": "05798820432415047858"
     },
     "user_tz": -540
    },
    "id": "Nldmu4gvup2a",
    "outputId": "66432f1f-2d31-4df7-858e-fd20ae589baa"
   },
   "outputs": [
    {
     "data": {
      "text/plain": [
       "'!\"#$%&\\'()*+,-./:;<=>?@[\\\\]^_`{|}~'"
      ]
     },
     "execution_count": 7,
     "metadata": {},
     "output_type": "execute_result"
    }
   ],
   "source": [
    "import string\n",
    "string.punctuation"
   ]
  },
  {
   "cell_type": "code",
   "execution_count": 16,
   "metadata": {},
   "outputs": [
    {
     "name": "stdout",
     "output_type": "stream",
     "text": [
      "['fun couple love love', 'fast furious shoot', 'couple fly fast fun fun', 'furious shoot shoot fun', 'fly fast shoot love']\n"
     ]
    }
   ],
   "source": [
    "import re\n",
    "\n",
    "del_punctuation_documents = []\n",
    "\n",
    "for sen in lower_documents:\n",
    "    del_punctuation_documents.append(re.sub(f'[{string.punctuation}]','',sen))\n",
    "    \n",
    "print(del_punctuation_documents)"
   ]
  },
  {
   "cell_type": "markdown",
   "metadata": {
    "id": "kjSXpYvcup2e"
   },
   "source": [
    "### step 3. 단어를 하나씩 띄어쓰기 단위로 쪼개어 줍니다."
   ]
  },
  {
   "cell_type": "code",
   "execution_count": 18,
   "metadata": {},
   "outputs": [
    {
     "name": "stdout",
     "output_type": "stream",
     "text": [
      "[['fun', 'couple', 'love', 'love'], ['fast', 'furious', 'shoot'], ['couple', 'fly', 'fast', 'fun', 'fun'], ['furious', 'shoot', 'shoot', 'fun'], ['fly', 'fast', 'shoot', 'love']]\n"
     ]
    }
   ],
   "source": [
    "preprocessed_documents = []\n",
    "\n",
    "for i in del_punctuation_documents:\n",
    "    preprocessed_documents.append(i.split())\n",
    "    \n",
    "print(preprocessed_documents)"
   ]
  },
  {
   "cell_type": "markdown",
   "metadata": {
    "id": "S49LF8aoup2i"
   },
   "source": [
    "### step 4. 문자를 숫자로 변환해줍니다.\n",
    "- 이를 위해 CountVectorizer를 사용합니다.\n",
    "- CountVectorizer는 문서 집합에서 단어 토큰을 생성하고, 각 단어 수를 세어 BOW (Bag of Words) 인코딩한 벡터를 만들어줍니다.\n",
    "\n",
    "- 문서에 해당단어가 몇번 포함되었는지를 나타낼 때 사용하는 방법입니다.\n",
    "\n",
    "- 참고 : https://datascienceschool.net/view-notebook/3e7aadbf88ed4f0d87a76f9ddc925d69/"
   ]
  },
  {
   "cell_type": "markdown",
   "metadata": {
    "id": "ZJSEL2Vwup2i"
   },
   "source": [
    "![CountVectorized](https://user-images.githubusercontent.com/68625698/106378540-15d8ed80-63e9-11eb-8604-5c960c274867.PNG)"
   ]
  },
  {
   "cell_type": "code",
   "execution_count": 19,
   "metadata": {
    "id": "hsLyujsReU1D",
    "outputId": "01bc2d8c-73ce-44c0-fad1-85d95a4bf73c"
   },
   "outputs": [
    {
     "data": {
      "text/plain": [
       "CountVectorizer()"
      ]
     },
     "execution_count": 19,
     "metadata": {},
     "output_type": "execute_result"
    }
   ],
   "source": [
    "from sklearn.feature_extraction.text import CountVectorizer\n",
    "count_vector = CountVectorizer()\n",
    "count_vector.fit(documents['message'])"
   ]
  },
  {
   "cell_type": "code",
   "execution_count": 20,
   "metadata": {
    "id": "QVp9CLl3eU1E",
    "outputId": "ced8f29c-51b4-4b3e-91dc-f0344349706f"
   },
   "outputs": [
    {
     "data": {
      "text/plain": [
       "array([[1, 0, 0, 1, 0, 2, 0],\n",
       "       [0, 1, 0, 0, 1, 0, 1],\n",
       "       [1, 1, 1, 2, 0, 0, 0],\n",
       "       [0, 0, 0, 1, 1, 0, 2],\n",
       "       [0, 1, 1, 0, 0, 1, 1]], dtype=int64)"
      ]
     },
     "execution_count": 20,
     "metadata": {},
     "output_type": "execute_result"
    }
   ],
   "source": [
    "doc_array = count_vector.transform(documents['message']).toarray()\n",
    "doc_array"
   ]
  },
  {
   "cell_type": "code",
   "execution_count": 21,
   "metadata": {
    "colab": {
     "base_uri": "https://localhost:8080/"
    },
    "executionInfo": {
     "elapsed": 760,
     "status": "ok",
     "timestamp": 1616425410965,
     "user": {
      "displayName": "김동현",
      "photoUrl": "",
      "userId": "05798820432415047858"
     },
     "user_tz": -540
    },
    "id": "mKpKp6q6up2k",
    "outputId": "f56bfdf0-835e-4a6e-8ba8-9edb3812aec5"
   },
   "outputs": [
    {
     "data": {
      "text/plain": [
       "['couple', 'fast', 'fly', 'fun', 'furious', 'love', 'shoot']"
      ]
     },
     "execution_count": 21,
     "metadata": {},
     "output_type": "execute_result"
    }
   ],
   "source": [
    "count_vector.get_feature_names()"
   ]
  },
  {
   "cell_type": "code",
   "execution_count": 22,
   "metadata": {
    "colab": {
     "base_uri": "https://localhost:8080/"
    },
    "executionInfo": {
     "elapsed": 410,
     "status": "ok",
     "timestamp": 1616425411227,
     "user": {
      "displayName": "김동현",
      "photoUrl": "",
      "userId": "05798820432415047858"
     },
     "user_tz": -540
    },
    "id": "ZYyBzSVUup2k",
    "outputId": "69e62b3e-9f10-4e45-f743-e33943186acf",
    "scrolled": true
   },
   "outputs": [
    {
     "data": {
      "text/plain": [
       "{'fun': 3,\n",
       " 'couple': 0,\n",
       " 'love': 5,\n",
       " 'fast': 1,\n",
       " 'furious': 4,\n",
       " 'shoot': 6,\n",
       " 'fly': 2}"
      ]
     },
     "execution_count": 22,
     "metadata": {},
     "output_type": "execute_result"
    }
   ],
   "source": [
    "# doc_array 배열에 순서에 따라 매치되는 단어를 나타낸다.\n",
    "count_vector.vocabulary_"
   ]
  },
  {
   "cell_type": "code",
   "execution_count": 23,
   "metadata": {
    "colab": {
     "base_uri": "https://localhost:8080/",
     "height": 204
    },
    "executionInfo": {
     "elapsed": 743,
     "status": "ok",
     "timestamp": 1616425412051,
     "user": {
      "displayName": "김동현",
      "photoUrl": "",
      "userId": "05798820432415047858"
     },
     "user_tz": -540
    },
    "id": "NxPjKxQTup2l",
    "outputId": "59bde9a2-881b-474b-ac72-c4a15280e7a2"
   },
   "outputs": [
    {
     "data": {
      "text/html": [
       "<div>\n",
       "<style scoped>\n",
       "    .dataframe tbody tr th:only-of-type {\n",
       "        vertical-align: middle;\n",
       "    }\n",
       "\n",
       "    .dataframe tbody tr th {\n",
       "        vertical-align: top;\n",
       "    }\n",
       "\n",
       "    .dataframe thead th {\n",
       "        text-align: right;\n",
       "    }\n",
       "</style>\n",
       "<table border=\"1\" class=\"dataframe\">\n",
       "  <thead>\n",
       "    <tr style=\"text-align: right;\">\n",
       "      <th></th>\n",
       "      <th>couple</th>\n",
       "      <th>fast</th>\n",
       "      <th>fly</th>\n",
       "      <th>fun</th>\n",
       "      <th>furious</th>\n",
       "      <th>love</th>\n",
       "      <th>shoot</th>\n",
       "    </tr>\n",
       "  </thead>\n",
       "  <tbody>\n",
       "    <tr>\n",
       "      <th>0</th>\n",
       "      <td>1</td>\n",
       "      <td>0</td>\n",
       "      <td>0</td>\n",
       "      <td>1</td>\n",
       "      <td>0</td>\n",
       "      <td>2</td>\n",
       "      <td>0</td>\n",
       "    </tr>\n",
       "    <tr>\n",
       "      <th>1</th>\n",
       "      <td>0</td>\n",
       "      <td>1</td>\n",
       "      <td>0</td>\n",
       "      <td>0</td>\n",
       "      <td>1</td>\n",
       "      <td>0</td>\n",
       "      <td>1</td>\n",
       "    </tr>\n",
       "    <tr>\n",
       "      <th>2</th>\n",
       "      <td>1</td>\n",
       "      <td>1</td>\n",
       "      <td>1</td>\n",
       "      <td>2</td>\n",
       "      <td>0</td>\n",
       "      <td>0</td>\n",
       "      <td>0</td>\n",
       "    </tr>\n",
       "    <tr>\n",
       "      <th>3</th>\n",
       "      <td>0</td>\n",
       "      <td>0</td>\n",
       "      <td>0</td>\n",
       "      <td>1</td>\n",
       "      <td>1</td>\n",
       "      <td>0</td>\n",
       "      <td>2</td>\n",
       "    </tr>\n",
       "    <tr>\n",
       "      <th>4</th>\n",
       "      <td>0</td>\n",
       "      <td>1</td>\n",
       "      <td>1</td>\n",
       "      <td>0</td>\n",
       "      <td>0</td>\n",
       "      <td>1</td>\n",
       "      <td>1</td>\n",
       "    </tr>\n",
       "  </tbody>\n",
       "</table>\n",
       "</div>"
      ],
      "text/plain": [
       "   couple  fast  fly  fun  furious  love  shoot\n",
       "0       1     0    0    1        0     2      0\n",
       "1       0     1    0    0        1     0      1\n",
       "2       1     1    1    2        0     0      0\n",
       "3       0     0    0    1        1     0      2\n",
       "4       0     1    1    0        0     1      1"
      ]
     },
     "execution_count": 23,
     "metadata": {},
     "output_type": "execute_result"
    }
   ],
   "source": [
    "frequency_matrix = pd.DataFrame(doc_array, columns = count_vector.get_feature_names())\n",
    "frequency_matrix"
   ]
  },
  {
   "cell_type": "code",
   "execution_count": 24,
   "metadata": {
    "id": "nFDEoN6iup2l"
   },
   "outputs": [
    {
     "data": {
      "text/html": [
       "<div>\n",
       "<style scoped>\n",
       "    .dataframe tbody tr th:only-of-type {\n",
       "        vertical-align: middle;\n",
       "    }\n",
       "\n",
       "    .dataframe tbody tr th {\n",
       "        vertical-align: top;\n",
       "    }\n",
       "\n",
       "    .dataframe thead th {\n",
       "        text-align: right;\n",
       "    }\n",
       "</style>\n",
       "<table border=\"1\" class=\"dataframe\">\n",
       "  <thead>\n",
       "    <tr style=\"text-align: right;\">\n",
       "      <th></th>\n",
       "      <th>couple</th>\n",
       "      <th>fast</th>\n",
       "      <th>fly</th>\n",
       "      <th>fun</th>\n",
       "      <th>furious</th>\n",
       "      <th>love</th>\n",
       "      <th>shoot</th>\n",
       "      <th>count</th>\n",
       "    </tr>\n",
       "  </thead>\n",
       "  <tbody>\n",
       "    <tr>\n",
       "      <th>0</th>\n",
       "      <td>1</td>\n",
       "      <td>0</td>\n",
       "      <td>0</td>\n",
       "      <td>1</td>\n",
       "      <td>0</td>\n",
       "      <td>2</td>\n",
       "      <td>0</td>\n",
       "      <td>4</td>\n",
       "    </tr>\n",
       "    <tr>\n",
       "      <th>1</th>\n",
       "      <td>0</td>\n",
       "      <td>1</td>\n",
       "      <td>0</td>\n",
       "      <td>0</td>\n",
       "      <td>1</td>\n",
       "      <td>0</td>\n",
       "      <td>1</td>\n",
       "      <td>3</td>\n",
       "    </tr>\n",
       "    <tr>\n",
       "      <th>2</th>\n",
       "      <td>1</td>\n",
       "      <td>1</td>\n",
       "      <td>1</td>\n",
       "      <td>2</td>\n",
       "      <td>0</td>\n",
       "      <td>0</td>\n",
       "      <td>0</td>\n",
       "      <td>5</td>\n",
       "    </tr>\n",
       "    <tr>\n",
       "      <th>3</th>\n",
       "      <td>0</td>\n",
       "      <td>0</td>\n",
       "      <td>0</td>\n",
       "      <td>1</td>\n",
       "      <td>1</td>\n",
       "      <td>0</td>\n",
       "      <td>2</td>\n",
       "      <td>4</td>\n",
       "    </tr>\n",
       "    <tr>\n",
       "      <th>4</th>\n",
       "      <td>0</td>\n",
       "      <td>1</td>\n",
       "      <td>1</td>\n",
       "      <td>0</td>\n",
       "      <td>0</td>\n",
       "      <td>1</td>\n",
       "      <td>1</td>\n",
       "      <td>4</td>\n",
       "    </tr>\n",
       "  </tbody>\n",
       "</table>\n",
       "</div>"
      ],
      "text/plain": [
       "   couple  fast  fly  fun  furious  love  shoot  count\n",
       "0       1     0    0    1        0     2      0      4\n",
       "1       0     1    0    0        1     0      1      3\n",
       "2       1     1    1    2        0     0      0      5\n",
       "3       0     0    0    1        1     0      2      4\n",
       "4       0     1    1    0        0     1      1      4"
      ]
     },
     "execution_count": 24,
     "metadata": {},
     "output_type": "execute_result"
    }
   ],
   "source": [
    "frequency_matrix['count'] = frequency_matrix.sum(axis=1)\n",
    "frequency_matrix"
   ]
  },
  {
   "cell_type": "markdown",
   "metadata": {
    "id": "ECND0-Xiup2l"
   },
   "source": [
    "### step 5. 범주형 변수를 dummy변수로 변환해주는 작업(One-Hot Encoding!)을 해주어야합니다.\n",
    "- label 을 comedy =1, action =0 으로 변환해주세요"
   ]
  },
  {
   "cell_type": "code",
   "execution_count": 29,
   "metadata": {
    "id": "X3ZgPf6EeU1H"
   },
   "outputs": [
    {
     "data": {
      "text/html": [
       "<div>\n",
       "<style scoped>\n",
       "    .dataframe tbody tr th:only-of-type {\n",
       "        vertical-align: middle;\n",
       "    }\n",
       "\n",
       "    .dataframe tbody tr th {\n",
       "        vertical-align: top;\n",
       "    }\n",
       "\n",
       "    .dataframe thead th {\n",
       "        text-align: right;\n",
       "    }\n",
       "</style>\n",
       "<table border=\"1\" class=\"dataframe\">\n",
       "  <thead>\n",
       "    <tr style=\"text-align: right;\">\n",
       "      <th></th>\n",
       "      <th>label</th>\n",
       "      <th>message</th>\n",
       "    </tr>\n",
       "  </thead>\n",
       "  <tbody>\n",
       "    <tr>\n",
       "      <th>0</th>\n",
       "      <td>1</td>\n",
       "      <td>Fun couple, love love</td>\n",
       "    </tr>\n",
       "    <tr>\n",
       "      <th>1</th>\n",
       "      <td>0</td>\n",
       "      <td>fast Furious, shoot!!</td>\n",
       "    </tr>\n",
       "    <tr>\n",
       "      <th>2</th>\n",
       "      <td>1</td>\n",
       "      <td>couple^^, fly, fast, fun, fun</td>\n",
       "    </tr>\n",
       "    <tr>\n",
       "      <th>3</th>\n",
       "      <td>0</td>\n",
       "      <td>furious, shoot shoot fun</td>\n",
       "    </tr>\n",
       "    <tr>\n",
       "      <th>4</th>\n",
       "      <td>0</td>\n",
       "      <td>fly~~ fast shoot, Love</td>\n",
       "    </tr>\n",
       "  </tbody>\n",
       "</table>\n",
       "</div>"
      ],
      "text/plain": [
       "   label                        message\n",
       "0      1          Fun couple, love love\n",
       "1      0          fast Furious, shoot!!\n",
       "2      1  couple^^, fly, fast, fun, fun\n",
       "3      0       furious, shoot shoot fun\n",
       "4      0         fly~~ fast shoot, Love"
      ]
     },
     "execution_count": 29,
     "metadata": {},
     "output_type": "execute_result"
    }
   ],
   "source": [
    "documents['label'] = documents[\"label\"].apply(lambda x : 1 if x=='comedy' else 0)\n",
    "documents"
   ]
  },
  {
   "cell_type": "code",
   "execution_count": 30,
   "metadata": {
    "id": "21OXioBWup2m"
   },
   "outputs": [],
   "source": [
    "# documents['label'],frequency_matrix 결합\n",
    "doc = pd.concat([documents['label'],frequency_matrix],axis=1)"
   ]
  },
  {
   "cell_type": "code",
   "execution_count": 32,
   "metadata": {
    "colab": {
     "base_uri": "https://localhost:8080/",
     "height": 204
    },
    "executionInfo": {
     "elapsed": 488,
     "status": "ok",
     "timestamp": 1616425414915,
     "user": {
      "displayName": "김동현",
      "photoUrl": "",
      "userId": "05798820432415047858"
     },
     "user_tz": -540
    },
    "id": "Q2835Qg-up2m",
    "outputId": "af740cfa-e43b-4559-820b-47cb257fd5cb"
   },
   "outputs": [
    {
     "data": {
      "text/html": [
       "<div>\n",
       "<style scoped>\n",
       "    .dataframe tbody tr th:only-of-type {\n",
       "        vertical-align: middle;\n",
       "    }\n",
       "\n",
       "    .dataframe tbody tr th {\n",
       "        vertical-align: top;\n",
       "    }\n",
       "\n",
       "    .dataframe thead th {\n",
       "        text-align: right;\n",
       "    }\n",
       "</style>\n",
       "<table border=\"1\" class=\"dataframe\">\n",
       "  <thead>\n",
       "    <tr style=\"text-align: right;\">\n",
       "      <th></th>\n",
       "      <th>label</th>\n",
       "      <th>couple</th>\n",
       "      <th>fast</th>\n",
       "      <th>fly</th>\n",
       "      <th>fun</th>\n",
       "      <th>furious</th>\n",
       "      <th>love</th>\n",
       "      <th>shoot</th>\n",
       "      <th>count</th>\n",
       "    </tr>\n",
       "  </thead>\n",
       "  <tbody>\n",
       "    <tr>\n",
       "      <th>0</th>\n",
       "      <td>1</td>\n",
       "      <td>1</td>\n",
       "      <td>0</td>\n",
       "      <td>0</td>\n",
       "      <td>1</td>\n",
       "      <td>0</td>\n",
       "      <td>2</td>\n",
       "      <td>0</td>\n",
       "      <td>4</td>\n",
       "    </tr>\n",
       "    <tr>\n",
       "      <th>1</th>\n",
       "      <td>0</td>\n",
       "      <td>0</td>\n",
       "      <td>1</td>\n",
       "      <td>0</td>\n",
       "      <td>0</td>\n",
       "      <td>1</td>\n",
       "      <td>0</td>\n",
       "      <td>1</td>\n",
       "      <td>3</td>\n",
       "    </tr>\n",
       "    <tr>\n",
       "      <th>2</th>\n",
       "      <td>1</td>\n",
       "      <td>1</td>\n",
       "      <td>1</td>\n",
       "      <td>1</td>\n",
       "      <td>2</td>\n",
       "      <td>0</td>\n",
       "      <td>0</td>\n",
       "      <td>0</td>\n",
       "      <td>5</td>\n",
       "    </tr>\n",
       "    <tr>\n",
       "      <th>3</th>\n",
       "      <td>0</td>\n",
       "      <td>0</td>\n",
       "      <td>0</td>\n",
       "      <td>0</td>\n",
       "      <td>1</td>\n",
       "      <td>1</td>\n",
       "      <td>0</td>\n",
       "      <td>2</td>\n",
       "      <td>4</td>\n",
       "    </tr>\n",
       "    <tr>\n",
       "      <th>4</th>\n",
       "      <td>0</td>\n",
       "      <td>0</td>\n",
       "      <td>1</td>\n",
       "      <td>1</td>\n",
       "      <td>0</td>\n",
       "      <td>0</td>\n",
       "      <td>1</td>\n",
       "      <td>1</td>\n",
       "      <td>4</td>\n",
       "    </tr>\n",
       "  </tbody>\n",
       "</table>\n",
       "</div>"
      ],
      "text/plain": [
       "   label  couple  fast  fly  fun  furious  love  shoot  count\n",
       "0      1       1     0    0    1        0     2      0      4\n",
       "1      0       0     1    0    0        1     0      1      3\n",
       "2      1       1     1    1    2        0     0      0      5\n",
       "3      0       0     0    0    1        1     0      2      4\n",
       "4      0       0     1    1    0        0     1      1      4"
      ]
     },
     "execution_count": 32,
     "metadata": {},
     "output_type": "execute_result"
    }
   ],
   "source": [
    "doc"
   ]
  },
  {
   "cell_type": "markdown",
   "metadata": {
    "id": "J3djcEgzup2n"
   },
   "source": [
    "###  step 6. 나이브 베이즈 계산을 해봅시다!\n",
    "\n",
    "- 입력문서가 {fast, fly, shoot} 을 주요 단어로 가질때, 이 문서는 얼마의 확률로 어떤 문서로 분류가 될까요? (계산과정을 채워주세요) "
   ]
  },
  {
   "cell_type": "code",
   "execution_count": 33,
   "metadata": {
    "colab": {
     "base_uri": "https://localhost:8080/"
    },
    "executionInfo": {
     "elapsed": 650,
     "status": "ok",
     "timestamp": 1616425417551,
     "user": {
      "displayName": "김동현",
      "photoUrl": "",
      "userId": "05798820432415047858"
     },
     "user_tz": -540
    },
    "id": "GdeYF_4rup2n",
    "outputId": "34832d1f-60d4-4705-b65c-1d8b928dde47"
   },
   "outputs": [
    {
     "data": {
      "text/plain": [
       "array([[1, 1, 0, 0, 1, 0, 2, 0, 4],\n",
       "       [0, 0, 1, 0, 0, 1, 0, 1, 3],\n",
       "       [1, 1, 1, 1, 2, 0, 0, 0, 5],\n",
       "       [0, 0, 0, 0, 1, 1, 0, 2, 4],\n",
       "       [0, 0, 1, 1, 0, 0, 1, 1, 4]], dtype=int64)"
      ]
     },
     "execution_count": 33,
     "metadata": {},
     "output_type": "execute_result"
    }
   ],
   "source": [
    "doc =  np.array(doc)          # dataframe을 np-array로 변환해줍니다.\n",
    "                         # return값은 np-matrix가 아니라 np-array입니다.\n",
    "doc"
   ]
  },
  {
   "cell_type": "code",
   "execution_count": 34,
   "metadata": {
    "colab": {
     "base_uri": "https://localhost:8080/"
    },
    "executionInfo": {
     "elapsed": 660,
     "status": "ok",
     "timestamp": 1616425417838,
     "user": {
      "displayName": "김동현",
      "photoUrl": "",
      "userId": "05798820432415047858"
     },
     "user_tz": -540
    },
    "id": "JgtmVeawup2n",
    "outputId": "330594f3-de0e-43c2-c329-300a0d740f65"
   },
   "outputs": [
    {
     "data": {
      "text/plain": [
       "numpy.ndarray"
      ]
     },
     "execution_count": 34,
     "metadata": {},
     "output_type": "execute_result"
    }
   ],
   "source": [
    "type(doc)"
   ]
  },
  {
   "cell_type": "markdown",
   "metadata": {
    "id": "1qxqVZyXup2o"
   },
   "source": [
    "####  P(Y=comedy), P(Y=action) 계산하기"
   ]
  },
  {
   "cell_type": "code",
   "execution_count": 58,
   "metadata": {},
   "outputs": [
    {
     "data": {
      "text/plain": [
       "array([1, 0, 1, 0, 0], dtype=int64)"
      ]
     },
     "execution_count": 58,
     "metadata": {},
     "output_type": "execute_result"
    }
   ],
   "source": [
    "(doc[:,0])"
   ]
  },
  {
   "cell_type": "code",
   "execution_count": 59,
   "metadata": {
    "id": "oyAV6HOSeU1J"
   },
   "outputs": [],
   "source": [
    "# P(Y=comedy)\n",
    "p_comedy = sum(doc[:,0]==1) / len(doc)\n",
    "\n",
    "# P(Y=action)\n",
    "p_action = 1-p_comedy"
   ]
  },
  {
   "cell_type": "code",
   "execution_count": 60,
   "metadata": {
    "colab": {
     "base_uri": "https://localhost:8080/"
    },
    "executionInfo": {
     "elapsed": 431,
     "status": "ok",
     "timestamp": 1616425419875,
     "user": {
      "displayName": "김동현",
      "photoUrl": "",
      "userId": "05798820432415047858"
     },
     "user_tz": -540
    },
    "id": "Yeh96yycup2q",
    "outputId": "3dd3490a-4d01-4845-9298-832cb48a46e1"
   },
   "outputs": [
    {
     "name": "stdout",
     "output_type": "stream",
     "text": [
      "p_comedy :  0.4\n",
      "p_action :  0.6\n"
     ]
    }
   ],
   "source": [
    "print('p_comedy : ',p_comedy)\n",
    "print('p_action : ', p_action)"
   ]
  },
  {
   "cell_type": "markdown",
   "metadata": {
    "id": "85_GjF4Yup2r"
   },
   "source": [
    "#### P(fast=1|comedy=1), P(fly=1|comedy=1), P(shoot=1|comedy=1) 계산하기\n",
    "* 참고 : 문서에 두번 등장한 단어 주의"
   ]
  },
  {
   "cell_type": "code",
   "execution_count": 83,
   "metadata": {},
   "outputs": [
    {
     "data": {
      "text/plain": [
       "0.1111111111111111"
      ]
     },
     "execution_count": 83,
     "metadata": {},
     "output_type": "execute_result"
    }
   ],
   "source": [
    "sum(doc[(doc[:,0]==1)& (doc[:,3] != 0)][:,3])/sum(doc[doc[:,0]==1][:,-1])"
   ]
  },
  {
   "cell_type": "code",
   "execution_count": 79,
   "metadata": {},
   "outputs": [
    {
     "data": {
      "text/plain": [
       "array([[1, 1, 0, 0, 1, 0, 2, 0, 4],\n",
       "       [1, 1, 1, 1, 2, 0, 0, 0, 5]], dtype=int64)"
      ]
     },
     "execution_count": 79,
     "metadata": {},
     "output_type": "execute_result"
    }
   ],
   "source": [
    "doc[doc[:,0]==1]"
   ]
  },
  {
   "cell_type": "code",
   "execution_count": 85,
   "metadata": {
    "id": "jAwsNsT1eU1J"
   },
   "outputs": [],
   "source": [
    "# P(fast=1|comedy=1)\n",
    "p_comedy_fast = sum(doc[(doc[:,0]==1)& (doc[:,2] != 0)][:,2])/sum(doc[doc[:,0]==1][:,-1])\n",
    "\n",
    "# P(fly=1|comedy=1)\n",
    "p_comedy_fly = sum(doc[(doc[:,0]==1)& (doc[:,3] != 0)][:,3])/sum(doc[doc[:,0]==1][:,-1])\n",
    "\n",
    "# P(shoot=1|comedy=1)\n",
    "p_comedy_shoot = sum(doc[(doc[:,0]==1)& (doc[:,7] != 0)][:,7])/sum(doc[doc[:,0]==1][:,-1])"
   ]
  },
  {
   "cell_type": "code",
   "execution_count": 86,
   "metadata": {
    "colab": {
     "base_uri": "https://localhost:8080/"
    },
    "executionInfo": {
     "elapsed": 538,
     "status": "ok",
     "timestamp": 1616425422774,
     "user": {
      "displayName": "김동현",
      "photoUrl": "",
      "userId": "05798820432415047858"
     },
     "user_tz": -540
    },
    "id": "_1GyvhmTup21",
    "outputId": "b24625e7-e06c-4c26-f625-b8d113c80eea"
   },
   "outputs": [
    {
     "name": "stdout",
     "output_type": "stream",
     "text": [
      "p_comedy_fast :  0.1111111111111111\n",
      "p_comedy_fly :  0.1111111111111111\n",
      "p_comedy_shoot :  0.0\n"
     ]
    }
   ],
   "source": [
    "print('p_comedy_fast : ' , p_comedy_fast)\n",
    "print('p_comedy_fly : ' , p_comedy_fly)\n",
    "print('p_comedy_shoot : ' , p_comedy_shoot)   "
   ]
  },
  {
   "cell_type": "markdown",
   "metadata": {
    "id": "qefcvWQ-up22"
   },
   "source": [
    "#### P(fast=1|action=1), P(fly=1|action=1), P(shoot=1|action=1) 계산하기\n",
    "* 참고 : 문서에 두번 등장한 단어 주의"
   ]
  },
  {
   "cell_type": "code",
   "execution_count": 89,
   "metadata": {
    "id": "axBALqHFeU1K"
   },
   "outputs": [],
   "source": [
    "# P(fast=1|action=1)\n",
    "p_action_fast = sum(doc[(doc[:,0]==0)& (doc[:,2] != 0)][:,2])/sum(doc[doc[:,0]==0][:,-1])\n",
    "\n",
    "# P(fly=1|action=1)\n",
    "p_action_fly = sum(doc[(doc[:,0]==0)& (doc[:,3] != 0)][:,3])/sum(doc[doc[:,0]==0][:,-1])\n",
    "\n",
    "# P(shoot=1|action=1)\n",
    "p_action_shoot = sum(doc[(doc[:,0]==0)& (doc[:,7] != 0)][:,7])/sum(doc[doc[:,0]==0][:,-1])"
   ]
  },
  {
   "cell_type": "code",
   "execution_count": 90,
   "metadata": {},
   "outputs": [
    {
     "name": "stdout",
     "output_type": "stream",
     "text": [
      "p_action_fast :  0.18181818181818182\n",
      "p_action_fly :  0.09090909090909091\n",
      "p_action_shoot :  0.36363636363636365\n"
     ]
    }
   ],
   "source": [
    "print('p_action_fast : ' , p_action_fast)\n",
    "print('p_action_fly : ' , p_action_fly)\n",
    "print('p_action_shoot : ' , p_action_shoot)  "
   ]
  },
  {
   "cell_type": "markdown",
   "metadata": {
    "id": "sts9BLUeup23"
   },
   "source": [
    "#### P(Y = comedy| X = fast, fly, shoot) , P(Y = action=1| X = fast, fly, shoot) 값 계산하기"
   ]
  },
  {
   "cell_type": "code",
   "execution_count": 97,
   "metadata": {
    "id": "5H89LgDMeU1L"
   },
   "outputs": [],
   "source": [
    "#P(Y = comedy| X = fast, fly, shoot)\n",
    "proba_comedy = p_comedy_fast * p_comedy_fly * p_comedy_shoot * p_comedy\n",
    "\n",
    "#P(Y = action=1| X = fast, fly, shoot)\n",
    "proba_action = p_action_fast * p_action_fly * p_action_shoot * p_action"
   ]
  },
  {
   "cell_type": "code",
   "execution_count": 98,
   "metadata": {},
   "outputs": [
    {
     "name": "stdout",
     "output_type": "stream",
     "text": [
      "proba_comedy 0.0\n",
      "proba_action 0.0036063110443275734\n"
     ]
    }
   ],
   "source": [
    "print('proba_comedy', proba_comedy)\n",
    "print('proba_action', proba_action)"
   ]
  },
  {
   "cell_type": "markdown",
   "metadata": {
    "id": "ypxC3cfrup24"
   },
   "source": [
    "### step 7. 라플라스 스무딩\n",
    "1. P(Y = comedy| X = fast, fly, shoot) => 0\n",
    "2. P(Y = action| X = fast, fly, shoot) => 0.003606311044327574\n",
    "\n",
    "- proba_comedy를 보면 p_comedy_shoot의 값인 0으로 인해 확률이 0으로 계산되었다는 것을 확인할 수 있습니다. 이 문제점을 해결해주세요."
   ]
  },
  {
   "cell_type": "code",
   "execution_count": 155,
   "metadata": {},
   "outputs": [
    {
     "data": {
      "text/plain": [
       "array([[1, 1, 0, 0, 1, 0, 2, 0, 4],\n",
       "       [0, 0, 1, 0, 0, 1, 0, 1, 3],\n",
       "       [1, 1, 1, 1, 2, 0, 0, 0, 5],\n",
       "       [0, 0, 0, 0, 1, 1, 0, 2, 4],\n",
       "       [0, 0, 1, 1, 0, 0, 1, 1, 4]], dtype=int64)"
      ]
     },
     "execution_count": 155,
     "metadata": {},
     "output_type": "execute_result"
    }
   ],
   "source": [
    "doc"
   ]
  },
  {
   "cell_type": "code",
   "execution_count": 154,
   "metadata": {},
   "outputs": [
    {
     "data": {
      "text/plain": [
       "9"
      ]
     },
     "execution_count": 154,
     "metadata": {},
     "output_type": "execute_result"
    }
   ],
   "source": [
    "sum(doc[doc[:,0]==1][:,-1])"
   ]
  },
  {
   "cell_type": "code",
   "execution_count": 152,
   "metadata": {},
   "outputs": [],
   "source": [
    "# P(fast=1|comedy=1)\n",
    "p_comedy_fast_L = (sum(doc[(doc[:,0]==1)& (doc[:,2] != 0)][:,2])+1)/(sum(doc[doc[:,0]==1][:,-1])+3)\n",
    "\n",
    "# P(fly=1|comedy=1)\n",
    "p_comedy_fly_L = sum(doc[(doc[:,0]==1)& (doc[:,3] != 0)][:,3])/sum(doc[doc[:,0]==1][:,-1])\n",
    "\n",
    "# P(shoot=1|comedy=1)\n",
    "p_comedy_shoot_L = sum(doc[(doc[:,0]==1)& (doc[:,7] != 0)][:,7])/sum(doc[doc[:,0]==1][:,-1])"
   ]
  },
  {
   "cell_type": "code",
   "execution_count": 153,
   "metadata": {},
   "outputs": [
    {
     "name": "stdout",
     "output_type": "stream",
     "text": [
      "p_comedy_fast_L :  0.16666666666666666\n",
      "p_comedy_fly_L :  0.1111111111111111\n",
      "p_comedy_shoot_L :  0.0\n"
     ]
    }
   ],
   "source": [
    "print('p_comedy_fast_L : ' , p_comedy_fast_L)\n",
    "print('p_comedy_fly_L : ' , p_comedy_fly_L)\n",
    "print('p_comedy_shoot_L : ' , p_comedy_shoot_L)"
   ]
  },
  {
   "cell_type": "markdown",
   "metadata": {},
   "source": [
    "-> 결과값이 다른게 나옵니다.... ㅠㅠ"
   ]
  },
  {
   "cell_type": "code",
   "execution_count": null,
   "metadata": {
    "id": "4c3X7BR0eU1L",
    "outputId": "993e9c6f-f0f7-413d-d60e-76376ddc536b"
   },
   "outputs": [
    {
     "name": "stdout",
     "output_type": "stream",
     "text": [
      "p_comedy_fast_L :  0.125\n",
      "p_comedy_fly_L :  0.125\n",
      "p_comedy_shoot_L :  0.0625\n"
     ]
    }
   ],
   "source": [
    "print('p_comedy_fast_L : ' , p_comedy_fast_L)\n",
    "print('p_comedy_fly_L : ' , p_comedy_fly_L)\n",
    "print('p_comedy_shoot_L : ' , p_comedy_shoot_L)"
   ]
  },
  {
   "cell_type": "code",
   "execution_count": 148,
   "metadata": {
    "id": "Lr9NlGXZeU1M"
   },
   "outputs": [],
   "source": [
    "# P(fast=1|action=1)\n",
    "p_action_fast_L = sum(new_doc[(new_doc[:,0]==1)& (new_doc[:,2] != 1)][:,2])/sum(new_doc[new_doc[:,0]==1][:,-1])\n",
    "\n",
    "# P(fly=1|action=1)\n",
    "p_action_fly_L = sum(new_doc[(new_doc[:,0]==1)& (new_doc[:,3] != 1)][:,3])/sum(new_doc[new_doc[:,0]==1][:,-1])\n",
    "\n",
    "# P(shoot=1|action=1)\n",
    "p_action_shoot_L = sum(new_doc[(new_doc[:,0]==1)& (new_doc[:,7] != 1)][:,7])/sum(new_doc[new_doc[:,0]==1][:,-1])"
   ]
  },
  {
   "cell_type": "code",
   "execution_count": 149,
   "metadata": {
    "colab": {
     "base_uri": "https://localhost:8080/"
    },
    "executionInfo": {
     "elapsed": 550,
     "status": "ok",
     "timestamp": 1616425427851,
     "user": {
      "displayName": "김동현",
      "photoUrl": "",
      "userId": "05798820432415047858"
     },
     "user_tz": -540
    },
    "id": "AC42Xd84UTuu",
    "outputId": "dd8a7a08-420e-4a84-b53b-615f8c3dc77d"
   },
   "outputs": [
    {
     "name": "stdout",
     "output_type": "stream",
     "text": [
      "p_action_fast_L :  0.11428571428571428\n",
      "p_action_fly_L :  0.05714285714285714\n",
      "p_action_shoot_L :  0.2\n"
     ]
    }
   ],
   "source": [
    "print('p_action_fast_L : ' , p_action_fast_L)\n",
    "print('p_action_fly_L : ' , p_action_fly_L)\n",
    "print('p_action_shoot_L : ' , p_action_shoot_L)"
   ]
  },
  {
   "cell_type": "code",
   "execution_count": null,
   "metadata": {
    "id": "WAPDSwdLeU1M"
   },
   "outputs": [],
   "source": [
    "#P(Y = comedy| X = fast, fly, shoot)\n",
    "proba_comedy_L = \" 여기를 채워주세요. \"\n",
    "\n",
    "#P(Y = action=1| X = fast, fly, shoot)\n",
    "proba_action_L =  \" 여기를 채워주세요. \""
   ]
  },
  {
   "cell_type": "code",
   "execution_count": null,
   "metadata": {
    "id": "JHKm06PreU1M",
    "outputId": "466d98ea-eed4-437c-9a58-d3e6d7edc371"
   },
   "outputs": [
    {
     "name": "stdout",
     "output_type": "stream",
     "text": [
      "proba_comedy_L :  0.000390625\n",
      "proba_action_L :  0.0030864197530864196\n"
     ]
    }
   ],
   "source": [
    "print('proba_comedy_L : ', proba_comedy_L)\n",
    "print('proba_action_L : ', proba_action_L)"
   ]
  },
  {
   "cell_type": "markdown",
   "metadata": {
    "id": "kfXDcNaYeU1M"
   },
   "source": [
    "### => 두개의 값을 비교하면 action 장르일 때 fast, fly, shoot 단어가 더 자주 나온다고 할 수 있다."
   ]
  },
  {
   "cell_type": "markdown",
   "metadata": {
    "id": "gTI4CrEdeU1M"
   },
   "source": [
    "## 2. sklearn을 활용한 Naive Bayes Model\n",
    "- 수업 시간에 활용했던 날씨와 온도 데이터를 활용하겠습니다."
   ]
  },
  {
   "cell_type": "code",
   "execution_count": 157,
   "metadata": {
    "id": "WZL9KObeeU1N"
   },
   "outputs": [],
   "source": [
    "weather=['Sunny','Sunny','Overcast','Rainy','Rainy','Rainy','Overcast','Sunny','Sunny',\n",
    "'Rainy','Sunny','Overcast','Overcast','Rainy']\n",
    "temp=['Hot','Hot','Hot','Mild','Cool','Cool','Cool','Mild','Cool','Mild','Mild','Mild','Hot','Mild']\n",
    "\n",
    "play=['No','No','Yes','Yes','Yes','No','Yes','No','Yes','Yes','Yes','Yes','Yes','No']"
   ]
  },
  {
   "cell_type": "code",
   "execution_count": 158,
   "metadata": {
    "id": "rMm1n_U0eU1N",
    "outputId": "8052f72a-9c23-4ab0-cc60-d8dabafdc97e"
   },
   "outputs": [
    {
     "data": {
      "text/html": [
       "<div>\n",
       "<style scoped>\n",
       "    .dataframe tbody tr th:only-of-type {\n",
       "        vertical-align: middle;\n",
       "    }\n",
       "\n",
       "    .dataframe tbody tr th {\n",
       "        vertical-align: top;\n",
       "    }\n",
       "\n",
       "    .dataframe thead th {\n",
       "        text-align: right;\n",
       "    }\n",
       "</style>\n",
       "<table border=\"1\" class=\"dataframe\">\n",
       "  <thead>\n",
       "    <tr style=\"text-align: right;\">\n",
       "      <th></th>\n",
       "      <th>weather</th>\n",
       "      <th>temperature</th>\n",
       "      <th>play</th>\n",
       "    </tr>\n",
       "  </thead>\n",
       "  <tbody>\n",
       "    <tr>\n",
       "      <th>0</th>\n",
       "      <td>Sunny</td>\n",
       "      <td>Hot</td>\n",
       "      <td>No</td>\n",
       "    </tr>\n",
       "    <tr>\n",
       "      <th>1</th>\n",
       "      <td>Sunny</td>\n",
       "      <td>Hot</td>\n",
       "      <td>No</td>\n",
       "    </tr>\n",
       "    <tr>\n",
       "      <th>2</th>\n",
       "      <td>Overcast</td>\n",
       "      <td>Hot</td>\n",
       "      <td>Yes</td>\n",
       "    </tr>\n",
       "    <tr>\n",
       "      <th>3</th>\n",
       "      <td>Rainy</td>\n",
       "      <td>Mild</td>\n",
       "      <td>Yes</td>\n",
       "    </tr>\n",
       "    <tr>\n",
       "      <th>4</th>\n",
       "      <td>Rainy</td>\n",
       "      <td>Cool</td>\n",
       "      <td>Yes</td>\n",
       "    </tr>\n",
       "    <tr>\n",
       "      <th>5</th>\n",
       "      <td>Rainy</td>\n",
       "      <td>Cool</td>\n",
       "      <td>No</td>\n",
       "    </tr>\n",
       "    <tr>\n",
       "      <th>6</th>\n",
       "      <td>Overcast</td>\n",
       "      <td>Cool</td>\n",
       "      <td>Yes</td>\n",
       "    </tr>\n",
       "    <tr>\n",
       "      <th>7</th>\n",
       "      <td>Sunny</td>\n",
       "      <td>Mild</td>\n",
       "      <td>No</td>\n",
       "    </tr>\n",
       "    <tr>\n",
       "      <th>8</th>\n",
       "      <td>Sunny</td>\n",
       "      <td>Cool</td>\n",
       "      <td>Yes</td>\n",
       "    </tr>\n",
       "    <tr>\n",
       "      <th>9</th>\n",
       "      <td>Rainy</td>\n",
       "      <td>Mild</td>\n",
       "      <td>Yes</td>\n",
       "    </tr>\n",
       "    <tr>\n",
       "      <th>10</th>\n",
       "      <td>Sunny</td>\n",
       "      <td>Mild</td>\n",
       "      <td>Yes</td>\n",
       "    </tr>\n",
       "    <tr>\n",
       "      <th>11</th>\n",
       "      <td>Overcast</td>\n",
       "      <td>Mild</td>\n",
       "      <td>Yes</td>\n",
       "    </tr>\n",
       "    <tr>\n",
       "      <th>12</th>\n",
       "      <td>Overcast</td>\n",
       "      <td>Hot</td>\n",
       "      <td>Yes</td>\n",
       "    </tr>\n",
       "    <tr>\n",
       "      <th>13</th>\n",
       "      <td>Rainy</td>\n",
       "      <td>Mild</td>\n",
       "      <td>No</td>\n",
       "    </tr>\n",
       "  </tbody>\n",
       "</table>\n",
       "</div>"
      ],
      "text/plain": [
       "     weather temperature play\n",
       "0      Sunny         Hot   No\n",
       "1      Sunny         Hot   No\n",
       "2   Overcast         Hot  Yes\n",
       "3      Rainy        Mild  Yes\n",
       "4      Rainy        Cool  Yes\n",
       "5      Rainy        Cool   No\n",
       "6   Overcast        Cool  Yes\n",
       "7      Sunny        Mild   No\n",
       "8      Sunny        Cool  Yes\n",
       "9      Rainy        Mild  Yes\n",
       "10     Sunny        Mild  Yes\n",
       "11  Overcast        Mild  Yes\n",
       "12  Overcast         Hot  Yes\n",
       "13     Rainy        Mild   No"
      ]
     },
     "execution_count": 158,
     "metadata": {},
     "output_type": "execute_result"
    }
   ],
   "source": [
    "pd.DataFrame({'weather':weather, 'temperature':temp, 'play':play})"
   ]
  },
  {
   "cell_type": "markdown",
   "metadata": {
    "id": "k-BatJcfeU1N"
   },
   "source": [
    "### step 1. 문자를 Label Encoding 해줍니다."
   ]
  },
  {
   "cell_type": "code",
   "execution_count": null,
   "metadata": {},
   "outputs": [],
   "source": []
  },
  {
   "cell_type": "code",
   "execution_count": 159,
   "metadata": {
    "id": "94r2XyK8eU1N",
    "outputId": "d117ec98-6ad7-49d9-b6a7-f379608dfc11"
   },
   "outputs": [
    {
     "name": "stdout",
     "output_type": "stream",
     "text": [
      "weather: [2 2 0 1 1 1 0 2 2 1 2 0 0 1]\n",
      "Temp: [1 1 1 2 0 0 0 2 0 2 2 2 1 2]\n",
      "Play: [0 0 1 1 1 0 1 0 1 1 1 1 1 0]\n"
     ]
    }
   ],
   "source": [
    "from sklearn.preprocessing import LabelEncoder\n",
    "labelencoder = LabelEncoder()\n",
    "\n",
    "weather_encoded = labelencoder.fit_transform(weather)\n",
    "temp_encoded = labelencoder.fit_transform(temp)\n",
    "label= labelencoder.fit_transform(play)\n",
    "\n",
    "\n",
    "print(\"weather:\", weather_encoded)\n",
    "print(\"Temp:\",temp_encoded)\n",
    "print(\"Play:\",label)"
   ]
  },
  {
   "cell_type": "code",
   "execution_count": 160,
   "metadata": {},
   "outputs": [
    {
     "name": "stdout",
     "output_type": "stream",
     "text": [
      "[(2, 1), (2, 1), (0, 1), (1, 2), (1, 0), (1, 0), (0, 0), (2, 2), (2, 0), (1, 2), (2, 2), (0, 2), (0, 1), (1, 2)]\n"
     ]
    }
   ],
   "source": [
    "features = list(zip(weather_encoded,temp_encoded))\n",
    "print(features)"
   ]
  },
  {
   "cell_type": "markdown",
   "metadata": {
    "id": "cJJQoAsxeU1O"
   },
   "source": [
    "### step 2. sklearn의 Naive Bayes 모델인 MultinomialNB를 사용하여 예측하겠습니다.\n",
    "- weather = 0:Overcast, temp = 2:Mild -> play = Yes"
   ]
  },
  {
   "cell_type": "code",
   "execution_count": 161,
   "metadata": {
    "id": "-B1tsuGbeU1O",
    "outputId": "df01d5cb-07fc-4cf8-a392-8b50a0be2f46"
   },
   "outputs": [
    {
     "name": "stdout",
     "output_type": "stream",
     "text": [
      "Predicted Value: [1]\n"
     ]
    }
   ],
   "source": [
    "from sklearn.naive_bayes import MultinomialNB\n",
    "\n",
    "# 라플라스 스무딩(alpha = 1)\n",
    "model = MultinomialNB(alpha=1)\n",
    "\n",
    "# Train the model using the training sets\n",
    "model.fit(features,label)\n",
    "\n",
    "#Predict Output\n",
    "predicted= model.predict([[0,2]]) # 0:Overcast, 2:Mild\n",
    "print(\"Predicted Value:\", predicted) # 1: Yes"
   ]
  },
  {
   "cell_type": "markdown",
   "metadata": {
    "id": "YtPKc79teU1O"
   },
   "source": [
    "### sklearn의 와인 데이터를 바탕으로 MultinomialNB를 활용하여 예측해주세요!\n",
    "- train과 test 비율은 8:2로 해주세요.\n",
    "- metrics는 accuracy로 진행해주세요."
   ]
  },
  {
   "cell_type": "code",
   "execution_count": 162,
   "metadata": {
    "id": "fqx64IyFeU1O",
    "outputId": "70679068-06f5-47b0-ea4a-1271cbeac1cc"
   },
   "outputs": [
    {
     "name": "stdout",
     "output_type": "stream",
     "text": [
      "Features:  ['alcohol', 'malic_acid', 'ash', 'alcalinity_of_ash', 'magnesium', 'total_phenols', 'flavanoids', 'nonflavanoid_phenols', 'proanthocyanins', 'color_intensity', 'hue', 'od280/od315_of_diluted_wines', 'proline']\n",
      "Labels:  ['class_0' 'class_1' 'class_2']\n"
     ]
    }
   ],
   "source": [
    "from sklearn import datasets\n",
    "\n",
    "#Load dataset\n",
    "wine = datasets.load_wine()\n",
    "\n",
    "# print the names of the 13 features\n",
    "print(\"Features: \", wine.feature_names)\n",
    "\n",
    "# print the label type of wine(class_0, class_1, class_2)\n",
    "print(\"Labels: \", wine.target_names)"
   ]
  },
  {
   "cell_type": "code",
   "execution_count": 165,
   "metadata": {
    "id": "4nmj1j61eU1P",
    "outputId": "8e0dd5c5-233f-458d-ab65-a9b857b5299e"
   },
   "outputs": [
    {
     "data": {
      "text/html": [
       "<div>\n",
       "<style scoped>\n",
       "    .dataframe tbody tr th:only-of-type {\n",
       "        vertical-align: middle;\n",
       "    }\n",
       "\n",
       "    .dataframe tbody tr th {\n",
       "        vertical-align: top;\n",
       "    }\n",
       "\n",
       "    .dataframe thead th {\n",
       "        text-align: right;\n",
       "    }\n",
       "</style>\n",
       "<table border=\"1\" class=\"dataframe\">\n",
       "  <thead>\n",
       "    <tr style=\"text-align: right;\">\n",
       "      <th></th>\n",
       "      <th>Labels</th>\n",
       "      <th>alcohol</th>\n",
       "      <th>malic_acid</th>\n",
       "      <th>ash</th>\n",
       "      <th>alcalinity_of_ash</th>\n",
       "      <th>magnesium</th>\n",
       "      <th>total_phenols</th>\n",
       "      <th>flavanoids</th>\n",
       "      <th>nonflavanoid_phenols</th>\n",
       "      <th>proanthocyanins</th>\n",
       "      <th>color_intensity</th>\n",
       "      <th>hue</th>\n",
       "      <th>od280/od315_of_diluted_wines</th>\n",
       "      <th>proline</th>\n",
       "    </tr>\n",
       "  </thead>\n",
       "  <tbody>\n",
       "    <tr>\n",
       "      <th>0</th>\n",
       "      <td>0</td>\n",
       "      <td>14.23</td>\n",
       "      <td>1.71</td>\n",
       "      <td>2.43</td>\n",
       "      <td>15.6</td>\n",
       "      <td>127.0</td>\n",
       "      <td>2.80</td>\n",
       "      <td>3.06</td>\n",
       "      <td>0.28</td>\n",
       "      <td>2.29</td>\n",
       "      <td>5.64</td>\n",
       "      <td>1.04</td>\n",
       "      <td>3.92</td>\n",
       "      <td>1065.0</td>\n",
       "    </tr>\n",
       "    <tr>\n",
       "      <th>1</th>\n",
       "      <td>0</td>\n",
       "      <td>13.20</td>\n",
       "      <td>1.78</td>\n",
       "      <td>2.14</td>\n",
       "      <td>11.2</td>\n",
       "      <td>100.0</td>\n",
       "      <td>2.65</td>\n",
       "      <td>2.76</td>\n",
       "      <td>0.26</td>\n",
       "      <td>1.28</td>\n",
       "      <td>4.38</td>\n",
       "      <td>1.05</td>\n",
       "      <td>3.40</td>\n",
       "      <td>1050.0</td>\n",
       "    </tr>\n",
       "    <tr>\n",
       "      <th>2</th>\n",
       "      <td>0</td>\n",
       "      <td>13.16</td>\n",
       "      <td>2.36</td>\n",
       "      <td>2.67</td>\n",
       "      <td>18.6</td>\n",
       "      <td>101.0</td>\n",
       "      <td>2.80</td>\n",
       "      <td>3.24</td>\n",
       "      <td>0.30</td>\n",
       "      <td>2.81</td>\n",
       "      <td>5.68</td>\n",
       "      <td>1.03</td>\n",
       "      <td>3.17</td>\n",
       "      <td>1185.0</td>\n",
       "    </tr>\n",
       "    <tr>\n",
       "      <th>3</th>\n",
       "      <td>0</td>\n",
       "      <td>14.37</td>\n",
       "      <td>1.95</td>\n",
       "      <td>2.50</td>\n",
       "      <td>16.8</td>\n",
       "      <td>113.0</td>\n",
       "      <td>3.85</td>\n",
       "      <td>3.49</td>\n",
       "      <td>0.24</td>\n",
       "      <td>2.18</td>\n",
       "      <td>7.80</td>\n",
       "      <td>0.86</td>\n",
       "      <td>3.45</td>\n",
       "      <td>1480.0</td>\n",
       "    </tr>\n",
       "    <tr>\n",
       "      <th>4</th>\n",
       "      <td>0</td>\n",
       "      <td>13.24</td>\n",
       "      <td>2.59</td>\n",
       "      <td>2.87</td>\n",
       "      <td>21.0</td>\n",
       "      <td>118.0</td>\n",
       "      <td>2.80</td>\n",
       "      <td>2.69</td>\n",
       "      <td>0.39</td>\n",
       "      <td>1.82</td>\n",
       "      <td>4.32</td>\n",
       "      <td>1.04</td>\n",
       "      <td>2.93</td>\n",
       "      <td>735.0</td>\n",
       "    </tr>\n",
       "    <tr>\n",
       "      <th>...</th>\n",
       "      <td>...</td>\n",
       "      <td>...</td>\n",
       "      <td>...</td>\n",
       "      <td>...</td>\n",
       "      <td>...</td>\n",
       "      <td>...</td>\n",
       "      <td>...</td>\n",
       "      <td>...</td>\n",
       "      <td>...</td>\n",
       "      <td>...</td>\n",
       "      <td>...</td>\n",
       "      <td>...</td>\n",
       "      <td>...</td>\n",
       "      <td>...</td>\n",
       "    </tr>\n",
       "    <tr>\n",
       "      <th>173</th>\n",
       "      <td>2</td>\n",
       "      <td>13.71</td>\n",
       "      <td>5.65</td>\n",
       "      <td>2.45</td>\n",
       "      <td>20.5</td>\n",
       "      <td>95.0</td>\n",
       "      <td>1.68</td>\n",
       "      <td>0.61</td>\n",
       "      <td>0.52</td>\n",
       "      <td>1.06</td>\n",
       "      <td>7.70</td>\n",
       "      <td>0.64</td>\n",
       "      <td>1.74</td>\n",
       "      <td>740.0</td>\n",
       "    </tr>\n",
       "    <tr>\n",
       "      <th>174</th>\n",
       "      <td>2</td>\n",
       "      <td>13.40</td>\n",
       "      <td>3.91</td>\n",
       "      <td>2.48</td>\n",
       "      <td>23.0</td>\n",
       "      <td>102.0</td>\n",
       "      <td>1.80</td>\n",
       "      <td>0.75</td>\n",
       "      <td>0.43</td>\n",
       "      <td>1.41</td>\n",
       "      <td>7.30</td>\n",
       "      <td>0.70</td>\n",
       "      <td>1.56</td>\n",
       "      <td>750.0</td>\n",
       "    </tr>\n",
       "    <tr>\n",
       "      <th>175</th>\n",
       "      <td>2</td>\n",
       "      <td>13.27</td>\n",
       "      <td>4.28</td>\n",
       "      <td>2.26</td>\n",
       "      <td>20.0</td>\n",
       "      <td>120.0</td>\n",
       "      <td>1.59</td>\n",
       "      <td>0.69</td>\n",
       "      <td>0.43</td>\n",
       "      <td>1.35</td>\n",
       "      <td>10.20</td>\n",
       "      <td>0.59</td>\n",
       "      <td>1.56</td>\n",
       "      <td>835.0</td>\n",
       "    </tr>\n",
       "    <tr>\n",
       "      <th>176</th>\n",
       "      <td>2</td>\n",
       "      <td>13.17</td>\n",
       "      <td>2.59</td>\n",
       "      <td>2.37</td>\n",
       "      <td>20.0</td>\n",
       "      <td>120.0</td>\n",
       "      <td>1.65</td>\n",
       "      <td>0.68</td>\n",
       "      <td>0.53</td>\n",
       "      <td>1.46</td>\n",
       "      <td>9.30</td>\n",
       "      <td>0.60</td>\n",
       "      <td>1.62</td>\n",
       "      <td>840.0</td>\n",
       "    </tr>\n",
       "    <tr>\n",
       "      <th>177</th>\n",
       "      <td>2</td>\n",
       "      <td>14.13</td>\n",
       "      <td>4.10</td>\n",
       "      <td>2.74</td>\n",
       "      <td>24.5</td>\n",
       "      <td>96.0</td>\n",
       "      <td>2.05</td>\n",
       "      <td>0.76</td>\n",
       "      <td>0.56</td>\n",
       "      <td>1.35</td>\n",
       "      <td>9.20</td>\n",
       "      <td>0.61</td>\n",
       "      <td>1.60</td>\n",
       "      <td>560.0</td>\n",
       "    </tr>\n",
       "  </tbody>\n",
       "</table>\n",
       "<p>178 rows × 14 columns</p>\n",
       "</div>"
      ],
      "text/plain": [
       "     Labels  alcohol  malic_acid   ash  alcalinity_of_ash  magnesium  \\\n",
       "0         0    14.23        1.71  2.43               15.6      127.0   \n",
       "1         0    13.20        1.78  2.14               11.2      100.0   \n",
       "2         0    13.16        2.36  2.67               18.6      101.0   \n",
       "3         0    14.37        1.95  2.50               16.8      113.0   \n",
       "4         0    13.24        2.59  2.87               21.0      118.0   \n",
       "..      ...      ...         ...   ...                ...        ...   \n",
       "173       2    13.71        5.65  2.45               20.5       95.0   \n",
       "174       2    13.40        3.91  2.48               23.0      102.0   \n",
       "175       2    13.27        4.28  2.26               20.0      120.0   \n",
       "176       2    13.17        2.59  2.37               20.0      120.0   \n",
       "177       2    14.13        4.10  2.74               24.5       96.0   \n",
       "\n",
       "     total_phenols  flavanoids  nonflavanoid_phenols  proanthocyanins  \\\n",
       "0             2.80        3.06                  0.28             2.29   \n",
       "1             2.65        2.76                  0.26             1.28   \n",
       "2             2.80        3.24                  0.30             2.81   \n",
       "3             3.85        3.49                  0.24             2.18   \n",
       "4             2.80        2.69                  0.39             1.82   \n",
       "..             ...         ...                   ...              ...   \n",
       "173           1.68        0.61                  0.52             1.06   \n",
       "174           1.80        0.75                  0.43             1.41   \n",
       "175           1.59        0.69                  0.43             1.35   \n",
       "176           1.65        0.68                  0.53             1.46   \n",
       "177           2.05        0.76                  0.56             1.35   \n",
       "\n",
       "     color_intensity   hue  od280/od315_of_diluted_wines  proline  \n",
       "0               5.64  1.04                          3.92   1065.0  \n",
       "1               4.38  1.05                          3.40   1050.0  \n",
       "2               5.68  1.03                          3.17   1185.0  \n",
       "3               7.80  0.86                          3.45   1480.0  \n",
       "4               4.32  1.04                          2.93    735.0  \n",
       "..               ...   ...                           ...      ...  \n",
       "173             7.70  0.64                          1.74    740.0  \n",
       "174             7.30  0.70                          1.56    750.0  \n",
       "175            10.20  0.59                          1.56    835.0  \n",
       "176             9.30  0.60                          1.62    840.0  \n",
       "177             9.20  0.61                          1.60    560.0  \n",
       "\n",
       "[178 rows x 14 columns]"
      ]
     },
     "execution_count": 165,
     "metadata": {},
     "output_type": "execute_result"
    }
   ],
   "source": [
    "data = pd.concat([pd.DataFrame({'Labels':wine.target}),pd.DataFrame(wine.data, columns = wine.feature_names)], axis=1)\n",
    "data"
   ]
  },
  {
   "cell_type": "code",
   "execution_count": 167,
   "metadata": {
    "id": "sL9GoKiDeU1P"
   },
   "outputs": [
    {
     "name": "stdout",
     "output_type": "stream",
     "text": [
      "(142, 13) (36, 13)\n"
     ]
    }
   ],
   "source": [
    "from sklearn.model_selection import train_test_split\n",
    "y = data['Labels']\n",
    "X = data.drop('Labels',axis =1 )\n",
    "train_X, test_X , train_y,test_y = train_test_split(X,y, test_size=0.2, random_state=2021)\n",
    "print(train_X.shape, test_X.shape)"
   ]
  },
  {
   "cell_type": "code",
   "execution_count": 168,
   "metadata": {
    "id": "knp8pNp1eU1P"
   },
   "outputs": [
    {
     "data": {
      "text/plain": [
       "MultinomialNB(alpha=1)"
      ]
     },
     "execution_count": 168,
     "metadata": {},
     "output_type": "execute_result"
    }
   ],
   "source": [
    "from sklearn.naive_bayes import MultinomialNB\n",
    "\n",
    "model = MultinomialNB(alpha=1)\n",
    "model.fit(train_X, train_y)"
   ]
  },
  {
   "cell_type": "code",
   "execution_count": 169,
   "metadata": {},
   "outputs": [
    {
     "name": "stdout",
     "output_type": "stream",
     "text": [
      "Accuracy: 0.9166666666666666\n"
     ]
    }
   ],
   "source": [
    "from sklearn.metrics import accuracy_score\n",
    "y_pred = model.predict(test_X)\n",
    "score = accuracy_score(test_y, y_pred)\n",
    "print(\"Accuracy:\", score)"
   ]
  },
  {
   "cell_type": "markdown",
   "metadata": {
    "id": "nXdTcEbaeU1Q"
   },
   "source": [
    "### 끝!"
   ]
  }
 ],
 "metadata": {
  "colab": {
   "collapsed_sections": [],
   "name": "week3_NaiveBayes_assignment.ipynb",
   "provenance": []
  },
  "kernelspec": {
   "display_name": "Python 3",
   "language": "python",
   "name": "python3"
  },
  "language_info": {
   "codemirror_mode": {
    "name": "ipython",
    "version": 3
   },
   "file_extension": ".py",
   "mimetype": "text/x-python",
   "name": "python",
   "nbconvert_exporter": "python",
   "pygments_lexer": "ipython3",
   "version": "3.7.7"
  }
 },
 "nbformat": 4,
 "nbformat_minor": 1
}
