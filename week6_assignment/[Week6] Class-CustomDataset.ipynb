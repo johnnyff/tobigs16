{
 "cells": [
  {
   "cell_type": "markdown",
   "metadata": {
    "id": "q8847qhBzpV3"
   },
   "source": [
    "# Week6: Class\n",
    "\n",
    "Pytorch의 Dataset 추상클래스를 상속받아 CustomDataset 만들어보기!\n",
    "\n",
    "- 현재는 X_data, y_data를 임의로 선정해두었지만, 원한다면 어떠한 데이터를 쓰셔도 상관없습니다. \n",
    "\n",
    "- 선언되어있는 3가지 메서드는 모두 구현하셔야 합니다. \n",
    "- 연습을 위한 추가적인 메서드들은 언제나 환영합니다!\n",
    "\n"
   ]
  },
  {
   "cell_type": "code",
   "execution_count": null,
   "metadata": {
    "id": "nHzO9sXUc60j"
   },
   "outputs": [],
   "source": [
    "from torch.utils.data import Dataset\n",
    "import torch\n",
    "from torch.utils.data import DataLoader\n",
    "\n",
    "import numpy as np"
   ]
  },
  {
   "cell_type": "markdown",
   "metadata": {},
   "source": [
    "- 시계열 데이터라고 가정하고 데이터셋을 구성\n",
    "- 2일씩 묶어 새로운 데이터를 구성하고자 함\n",
    "- 첫째날은 첫째날의 데이터 2개를 묶어 데이터를 구성함"
   ]
  },
  {
   "cell_type": "code",
   "execution_count": 53,
   "metadata": {
    "id": "u3xgFyHBfrDy"
   },
   "outputs": [],
   "source": [
    "X_data = np.random.rand(20)\n",
    "y_data = np.ones(20)"
   ]
  },
  {
   "cell_type": "code",
   "execution_count": 100,
   "metadata": {
    "id": "0uVQHsNPdAQR"
   },
   "outputs": [],
   "source": [
    "class CustomDataset(Dataset): \n",
    "    def sliding_window(xdata,ydata,seq):\n",
    "        x = []\n",
    "        y = []\n",
    "        temp_x = []\n",
    "        \n",
    "        for i in range(seq):\n",
    "            temp_x.append(xdata[0])\n",
    "        for i in range(seq -1):\n",
    "            x.append(np.array(temp_x))\n",
    "            y.append(ydata[0])\n",
    "        for i in range(len(xdata)-seq):\n",
    "            _x = xdata[i:i+seq]\n",
    "            x.append(_x)\n",
    "            y.append(ydata[i+seq-1])\n",
    "        return x, y\n",
    "    \n",
    "    def __init__(self, X_data, y_data):\n",
    "        self.X_data, self.y_data = CustomDataset.sliding_window(X_data,y_data,2)\n",
    "         \n",
    "    \n",
    "    def __len__(self):\n",
    "        return len(self.y_data)\n",
    "    \n",
    "    def __getitem__(self, idx): \n",
    "        x = (self.X_data[idx])\n",
    "        y = (self.y_data[idx])\n",
    "        return {\"input\": x, 'label':y}"
   ]
  },
  {
   "cell_type": "code",
   "execution_count": 101,
   "metadata": {
    "id": "8DxTC-Kqghjq"
   },
   "outputs": [],
   "source": [
    "dataset = CustomDataset(X_data, y_data)\n",
    "dataloader =DataLoader(dataset, batch_size =1 , shuffle =True)"
   ]
  },
  {
   "cell_type": "code",
   "execution_count": 104,
   "metadata": {},
   "outputs": [
    {
     "name": "stdout",
     "output_type": "stream",
     "text": [
      "{'input': tensor([[0.7993, 0.2013]], dtype=torch.float64), 'label': tensor([1.], dtype=torch.float64)}\n",
      "{'input': tensor([[0.2423, 0.3242]], dtype=torch.float64), 'label': tensor([1.], dtype=torch.float64)}\n",
      "{'input': tensor([[0.8644, 0.4409]], dtype=torch.float64), 'label': tensor([1.], dtype=torch.float64)}\n",
      "{'input': tensor([[0.2642, 0.5205]], dtype=torch.float64), 'label': tensor([1.], dtype=torch.float64)}\n",
      "{'input': tensor([[0.6602, 0.0569]], dtype=torch.float64), 'label': tensor([1.], dtype=torch.float64)}\n",
      "{'input': tensor([[0.9531, 0.6602]], dtype=torch.float64), 'label': tensor([1.], dtype=torch.float64)}\n",
      "{'input': tensor([[0.3694, 0.9531]], dtype=torch.float64), 'label': tensor([1.], dtype=torch.float64)}\n",
      "{'input': tensor([[0.4409, 0.7993]], dtype=torch.float64), 'label': tensor([1.], dtype=torch.float64)}\n",
      "{'input': tensor([[0.0868, 0.3694]], dtype=torch.float64), 'label': tensor([1.], dtype=torch.float64)}\n",
      "{'input': tensor([[0.9325, 0.9325]], dtype=torch.float64), 'label': tensor([1.], dtype=torch.float64)}\n",
      "{'input': tensor([[0.9325, 0.8644]], dtype=torch.float64), 'label': tensor([1.], dtype=torch.float64)}\n",
      "{'input': tensor([[0.2013, 0.0868]], dtype=torch.float64), 'label': tensor([1.], dtype=torch.float64)}\n",
      "{'input': tensor([[0.0721, 0.2423]], dtype=torch.float64), 'label': tensor([1.], dtype=torch.float64)}\n",
      "{'input': tensor([[0.2093, 0.3028]], dtype=torch.float64), 'label': tensor([1.], dtype=torch.float64)}\n",
      "{'input': tensor([[0.3242, 0.2093]], dtype=torch.float64), 'label': tensor([1.], dtype=torch.float64)}\n",
      "{'input': tensor([[0.5205, 0.0721]], dtype=torch.float64), 'label': tensor([1.], dtype=torch.float64)}\n",
      "{'input': tensor([[0.9072, 0.2642]], dtype=torch.float64), 'label': tensor([1.], dtype=torch.float64)}\n",
      "{'input': tensor([[0.0569, 0.9072]], dtype=torch.float64), 'label': tensor([1.], dtype=torch.float64)}\n",
      "{'input': tensor([[0.3028, 0.5457]], dtype=torch.float64), 'label': tensor([1.], dtype=torch.float64)}\n"
     ]
    }
   ],
   "source": [
    "for i in dataloader:\n",
    "    print(i)"
   ]
  },
  {
   "cell_type": "code",
   "execution_count": null,
   "metadata": {},
   "outputs": [],
   "source": []
  }
 ],
 "metadata": {
  "colab": {
   "name": "[Week6] Class.ipynb",
   "provenance": []
  },
  "kernelspec": {
   "display_name": "Python 3",
   "language": "python",
   "name": "python3"
  },
  "language_info": {
   "codemirror_mode": {
    "name": "ipython",
    "version": 3
   },
   "file_extension": ".py",
   "mimetype": "text/x-python",
   "name": "python",
   "nbconvert_exporter": "python",
   "pygments_lexer": "ipython3",
   "version": "3.7.7"
  }
 },
 "nbformat": 4,
 "nbformat_minor": 1
}
